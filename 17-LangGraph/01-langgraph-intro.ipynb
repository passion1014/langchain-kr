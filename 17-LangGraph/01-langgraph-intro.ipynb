{
 "cells": [
  {
   "cell_type": "markdown",
   "id": "6fa6fb7f",
   "metadata": {},
   "source": [
    "# LangGraph 찍먹!\n",
    "\n",
    "LangGraph는 **에이전트** 및 **멀티에이전트 워크플로우** 를 만드는 데 사용되는 LLM으로 **상태 저장**, **멀티액터** 애플리케이션을 구축하기 위한 라이브러리입니다. \n",
    "\n",
    "다른 LLM 프레임워크와 비교할 때 **주기(Cycle), 제어 가능성, 지속성** 이라는 핵심 이점을 제공합니다. LangGraph를 사용하면 대부분의 에이전트 아키텍처에 필수적인 **주기를 포함하는 플로우를 정의할 수 있어 DAG 기반 솔루션과 차별화** 됩니다. \n",
    "\n",
    "매우 낮은 수준의 프레임워크로서 애플리케이션의 흐름과 상태를 모두 세밀하게 제어할 수 있어 **안정적인 에이전트를 만드는 데 매우 중요** 합니다. 또한 LangGraph에는 지속성이 내장되어 있어 고급 휴먼 인 더 루프 및 메모리 기능을 사용할 수 있습니다.\n",
    "\n",
    "LangGraph는 Pregel과 Apache Beam에서 영감을 받았습니다. 공용 인터페이스는 NetworkX에서 영감을 얻었습니다. LangGraph는 LangChain을 개발한 LangChain Inc에서 구축했지만, LangChain 없이도 사용할 수 있습니다."
   ]
  },
  {
   "cell_type": "markdown",
   "id": "911eb61d",
   "metadata": {},
   "source": [
    "## 환경설정"
   ]
  },
  {
   "cell_type": "code",
   "execution_count": 1,
   "id": "064d5c8c",
   "metadata": {},
   "outputs": [
    {
     "data": {
      "text/plain": [
       "True"
      ]
     },
     "execution_count": 1,
     "metadata": {},
     "output_type": "execute_result"
    }
   ],
   "source": [
    "# api key\n",
    "from dotenv import load_dotenv\n",
    "\n",
    "load_dotenv()"
   ]
  },
  {
   "cell_type": "code",
   "execution_count": 2,
   "id": "562b0043",
   "metadata": {},
   "outputs": [
    {
     "name": "stderr",
     "output_type": "stream",
     "text": [
      "INFO:__main__:CH17-LANGGRAPH\n"
     ]
    }
   ],
   "source": [
    "import logging\n",
    "\n",
    "# 로깅 설정\n",
    "logging.basicConfig(level=logging.INFO)\n",
    "logger = logging.getLogger(__name__)\n",
    "\n",
    "\n",
    "# 프로젝트 이름을 입력합니다.\n",
    "logger.info(\"CH17-LANGGRAPH\")"
   ]
  },
  {
   "cell_type": "markdown",
   "id": "962c93e4",
   "metadata": {},
   "source": [
    "## 노드와 엣지\n",
    "\n",
    "주요 개념\n",
    "\n",
    "- GraphState(상태 저장 그래프): LangGraph는 그래프의 각 노드가 계산의 단계를 나타내며, 그래프는 계산이 진행됨에 따라 전달되고 업데이트되는 상태를 유지하는 상태 저장 그래프 개념을 중심으로 작동합니다.\n",
    "- Node(노드): 노드는 LangGraph의 구성 요소입니다. 각 노드는 함수 또는 계산 단계를 나타냅니다. 입력 처리, 의사 결정, 외부 API와의 상호 작용 등 특정 작업을 수행하도록 노드를 정의할 수 있습니다.\n",
    "- Edge(엣지): 에지는 그래프에서 노드를 연결하여 계산의 흐름을 정의합니다. LangGraph는 조건부 에지를 지원하므로 그래프의 현재 상태에 따라 실행할 다음 노드를 동적으로 결정할 수 있습니다.\n"
   ]
  },
  {
   "cell_type": "markdown",
   "id": "d047f938",
   "metadata": {},
   "source": [
    "## GraphState\n",
    "\n",
    "각 노드에서 다음 노드로 전달되는 상태를 저장합니다."
   ]
  },
  {
   "cell_type": "code",
   "execution_count": 3,
   "id": "f19a3df5",
   "metadata": {},
   "outputs": [],
   "source": [
    "from typing import TypedDict\n",
    "\n",
    "\n",
    "# GraphState 요소는 상태를 전달하는 용도로 사용됩니다.\n",
    "class GraphState(TypedDict):\n",
    "    goal: str  # 목표\n",
    "    todo: list[str]  # 할 일 목록\n",
    "    current_job: str  # 현재 작업\n",
    "    total_time: int  # 총 소요시간(시간)\n",
    "    time_spent: int  # 소요 시간(시간)\n",
    "    status: str  # 상태(진행중, 다음 작업, 종료)"
   ]
  },
  {
   "cell_type": "markdown",
   "id": "2ecb44a5",
   "metadata": {},
   "source": [
    "## Node & Edge"
   ]
  },
  {
   "cell_type": "code",
   "execution_count": 4,
   "id": "c1e11754",
   "metadata": {},
   "outputs": [],
   "source": [
    "from langchain_openai import ChatOpenAI\n",
    "from langchain_core.prompts import ChatPromptTemplate\n",
    "from langchain_core.output_parsers import CommaSeparatedListOutputParser\n",
    "from rag.utils import format_task\n",
    "\n",
    "\n",
    "def create_todo_list(goal):\n",
    "    output_parser = CommaSeparatedListOutputParser()\n",
    "    prompt = ChatPromptTemplate.from_messages(\n",
    "        [\n",
    "            (\n",
    "                \"system\",\n",
    "                \"당신은 나의 할일을 관리하는 비서입니다. 당신의 임무는 나를 위하여 주어진 목표에 대하여 할일 목록을 작성하는 것입니다.\",\n",
    "            ),\n",
    "            (\n",
    "                \"human\",\n",
    "                \"주어진 목표(goal)를 잘 수행하기 위하여 할일 목록을 작성해 주세요. `할일:걸리는시간(hour)` 으로 작성하세요. 걸리는 시간은 반올림하여 int 로 작성하세요.\\n\\n#목표: {goal}\\n\\n#형식: {format_instuctions}\",\n",
    "            ),\n",
    "        ]\n",
    "    )\n",
    "    prompt = prompt.partial(format_instuctions=output_parser.get_format_instructions())\n",
    "    llm = ChatOpenAI(model_name=\"gpt-4-turbo\")\n",
    "    chain = prompt | llm | CommaSeparatedListOutputParser()\n",
    "\n",
    "    output = chain.invoke({\"goal\": goal})\n",
    "    return output"
   ]
  },
  {
   "cell_type": "code",
   "execution_count": 8,
   "id": "02d069b6",
   "metadata": {},
   "outputs": [
    {
     "name": "stderr",
     "output_type": "stream",
     "text": [
      "INFO:httpx:HTTP Request: POST https://api.openai.com/v1/chat/completions \"HTTP/1.1 200 OK\"\n"
     ]
    },
    {
     "data": {
      "text/plain": [
       "['LangChain 공식 웹사이트 방문하여 튜혈리얼 섹션 확인:1',\n",
       " 'RAG에 대한 기본 개념 이해하기:2',\n",
       " 'LangChain 튜토리얼 문서 다운로드:1',\n",
       " 'RAG 튜토리얼 세부 내용 읽기:2',\n",
       " '실습 준비 - 필요한 소프트웨어 및 라이브러리 설치:2',\n",
       " 'RAG 모델 실습해보기:3',\n",
       " '실습 결과 검토 및 정리:2',\n",
       " '추가 질문 정리 및 커뮤니티 포럼 참여:2']"
      ]
     },
     "execution_count": 8,
     "metadata": {},
     "output_type": "execute_result"
    }
   ],
   "source": [
    "todo = create_todo_list(\"LangChain 튜토리얼로 RAG 공부하기\")\n",
    "todo"
   ]
  },
  {
   "cell_type": "markdown",
   "id": "63c95831",
   "metadata": {},
   "source": [
    "['LangChain 공식 문서 검픽:1',\n",
    " 'RAG 모델 개념 이해하기:2',\n",
    " 'RAG 튜틠리얼 선택 및 다운로드:1',\n",
    " '튜토리얼 실행을 위한 환경 설정:1',\n",
    " '튜토리얼 실습 따라하기:3',\n",
    " '실습 내용 복습 및 요약 정리:2',\n",
    " '추가 질문 정리 및 커뮤니티 피드백 요청:1']"
   ]
  },
  {
   "cell_type": "markdown",
   "id": "0e72251c",
   "metadata": {},
   "source": [
    "## 각 노드의 세부 기능 정의"
   ]
  },
  {
   "cell_type": "code",
   "execution_count": 9,
   "id": "6097a699",
   "metadata": {},
   "outputs": [],
   "source": [
    "def list_todo(state: GraphState) -> GraphState:\n",
    "    goal = state[\"goal\"]\n",
    "    # 리스트 작성\n",
    "    todo = create_todo_list(goal)\n",
    "    # 할 일 목록을 포맷팅\n",
    "    todo = format_task(create_todo_list(todo))\n",
    "    return GraphState(todo=todo)\n",
    "\n",
    "\n",
    "def start_job(state: GraphState) -> GraphState:\n",
    "    todo = state[\"todo\"]\n",
    "        \n",
    "    if len(todo):\n",
    "        current_job, total_time = todo.pop(0)\n",
    "        status = \"진행중\"\n",
    "        time_spent = 0\n",
    "    return GraphState(\n",
    "        current_job=current_job,\n",
    "        total_time=total_time,\n",
    "        status=status,\n",
    "        time_spent=time_spent,\n",
    "    )\n",
    "\n",
    "\n",
    "def process_job(state: GraphState) -> GraphState:\n",
    "    time_spent = state[\"time_spent\"]\n",
    "    time_spent += 1\n",
    "\n",
    "    return GraphState(time_spent=time_spent)\n",
    "\n",
    "\n",
    "def check_progress(state: GraphState) -> GraphState:\n",
    "    if state[\"time_spent\"] >= state[\"total_time\"]:\n",
    "        status = \"다음 작업\"\n",
    "        if len(state[\"todo\"]) == 0:\n",
    "            status = \"종료\"\n",
    "    else:\n",
    "        status = \"진행중\"\n",
    "    return GraphState(status=status)\n",
    "\n",
    "\n",
    "def next_step(state: GraphState) -> GraphState:\n",
    "    return state[\"status\"]"
   ]
  },
  {
   "cell_type": "markdown",
   "id": "9a92aa06",
   "metadata": {},
   "source": [
    "## 그래프 정의"
   ]
  },
  {
   "cell_type": "code",
   "execution_count": 10,
   "id": "a6015807",
   "metadata": {},
   "outputs": [],
   "source": [
    "from langgraph.graph import END, StateGraph\n",
    "from langgraph.checkpoint.memory import MemorySaver\n",
    "\n",
    "# langgraph.graph에서 StateGraph와 END를 가져옵니다.\n",
    "workflow = StateGraph(GraphState)\n",
    "\n",
    "# Todo 를 작성합니다.\n",
    "workflow.add_node(\"list_todo\", list_todo)  # 에이전트 노드를 추가합니다.\n",
    "\n",
    "# Todo 작업을 시작합니다.\n",
    "workflow.add_node(\"start_job\", start_job)\n",
    "\n",
    "# 작업을 진행합니다.\n",
    "workflow.add_node(\"process_job\", process_job)\n",
    "\n",
    "# 작업을 중간 체크합니다.\n",
    "workflow.add_node(\"check_progress\", check_progress)\n",
    "\n",
    "# 각 노드들을 연결합니다.\n",
    "workflow.add_edge(\"list_todo\", \"start_job\")\n",
    "workflow.add_edge(\"start_job\", \"process_job\")\n",
    "workflow.add_edge(\"process_job\", \"check_progress\")\n"
   ]
  },
  {
   "cell_type": "code",
   "execution_count": 11,
   "id": "ef8844a8",
   "metadata": {},
   "outputs": [],
   "source": [
    "\n",
    "# 조건부 엣지를 추가합니다.\n",
    "workflow.add_conditional_edges(\n",
    "    \"check_progress\",  # 관련성 체크 노드에서 나온 결과를 is_relevant 함수에 전달합니다.\n",
    "    next_step,\n",
    "    {\n",
    "        \"진행중\": \"process_job\",  # 관련성이 있으면 종료합니다.\n",
    "        \"다음 작업\": \"start_job\",  # 관련성이 없으면 다시 답변을 생성합니다.\n",
    "        \"종료\": END,  # 관련성 체크 결과가 모호하다면 다시 답변을 생성합니다.\n",
    "    },\n",
    ")\n",
    "\n",
    "# 시작점을 설정합니다.\n",
    "workflow.set_entry_point(\"list_todo\")\n",
    "\n",
    "# 기록을 위한 메모리 저장소를 설정합니다.\n",
    "memory = MemorySaver()\n",
    "\n",
    "# 그래프를 컴파일합니다.\n",
    "app = workflow.compile(checkpointer=memory)"
   ]
  },
  {
   "cell_type": "markdown",
   "id": "4f2ba7aa",
   "metadata": {},
   "source": [
    "## 그래프 시각화"
   ]
  },
  {
   "cell_type": "code",
   "execution_count": null,
   "id": "2e09251d",
   "metadata": {},
   "outputs": [],
   "source": [
    "from IPython.display import Image, display\n",
    "\n",
    "try:\n",
    "    display(\n",
    "        Image(app.get_graph(xray=True).draw_mermaid_png())\n",
    "    )  # 실행 가능한 객체의 그래프를 mermaid 형식의 PNG로 그려서 표시합니다. \n",
    "       # xray=True는 추가적인 세부 정보를 포함합니다.\n",
    "except:\n",
    "    # 이 부분은 추가적인 의존성이 필요하며 선택적으로 실행됩니다.\n",
    "    pass"
   ]
  },
  {
   "cell_type": "code",
   "execution_count": 13,
   "id": "3004f341",
   "metadata": {},
   "outputs": [
    {
     "name": "stderr",
     "output_type": "stream",
     "text": [
      "INFO:httpx:HTTP Request: POST https://api.openai.com/v1/chat/completions \"HTTP/1.1 200 OK\"\n",
      "INFO:httpx:HTTP Request: POST https://api.openai.com/v1/chat/completions \"HTTP/1.1 200 OK\"\n"
     ]
    },
    {
     "name": "stdout",
     "output_type": "stream",
     "text": [
      "'[NODE] list_todo'\n",
      "(\"<todo> [('주제 선정 및 연구', 4), ('발표 구조 설계', 2), ('발표 슬라이드 제작', 3), ('발표 연습', 2), \"\n",
      " \"('자료 검포 및 수정', 2), ('최종 리허설', 1)]\")\n",
      "'=============================='\n",
      "'[NODE] start_job'\n",
      "'<current_job> 주제 선정 및 연구'\n",
      "'<total_time> 4'\n",
      "'<time_spent> 0'\n",
      "'<status> 진행중'\n",
      "'=============================='\n",
      "'[NODE] process_job'\n",
      "'<time_spent> 1'\n",
      "'=============================='\n",
      "'[NODE] check_progress'\n",
      "'<status> 진행중'\n",
      "'=============================='\n",
      "'[NODE] process_job'\n",
      "'<time_spent> 2'\n",
      "'=============================='\n",
      "'[NODE] check_progress'\n",
      "'<status> 진행중'\n",
      "'=============================='\n",
      "'[NODE] process_job'\n",
      "'<time_spent> 3'\n",
      "'=============================='\n",
      "'[NODE] check_progress'\n",
      "'<status> 진행중'\n",
      "'=============================='\n",
      "'[NODE] process_job'\n",
      "'<time_spent> 4'\n",
      "'=============================='\n",
      "'[NODE] check_progress'\n",
      "'<status> 다음 작업'\n",
      "'=============================='\n",
      "'[NODE] start_job'\n",
      "'<current_job> 발표 구조 설계'\n",
      "'<total_time> 2'\n",
      "'<time_spent> 0'\n",
      "'<status> 진행중'\n",
      "'=============================='\n",
      "'[NODE] process_job'\n",
      "'<time_spent> 1'\n",
      "'=============================='\n",
      "'[NODE] check_progress'\n",
      "'<status> 진행중'\n",
      "'=============================='\n",
      "'[NODE] process_job'\n",
      "'<time_spent> 2'\n",
      "'=============================='\n",
      "'[NODE] check_progress'\n",
      "'<status> 다음 작업'\n",
      "'=============================='\n",
      "'[NODE] start_job'\n",
      "'<current_job> 발표 슬라이드 제작'\n",
      "'<total_time> 3'\n",
      "'<time_spent> 0'\n",
      "'<status> 진행중'\n",
      "'=============================='\n",
      "'[NODE] process_job'\n",
      "'<time_spent> 1'\n",
      "'=============================='\n",
      "'[NODE] check_progress'\n",
      "'<status> 진행중'\n",
      "'=============================='\n",
      "'[NODE] process_job'\n",
      "'<time_spent> 2'\n",
      "'=============================='\n",
      "'[NODE] check_progress'\n",
      "'<status> 진행중'\n",
      "'=============================='\n",
      "'[NODE] process_job'\n",
      "'<time_spent> 3'\n",
      "'=============================='\n",
      "'[NODE] check_progress'\n",
      "'<status> 다음 작업'\n",
      "'=============================='\n",
      "'[NODE] start_job'\n",
      "'<current_job> 발표 연습'\n",
      "'<total_time> 2'\n",
      "'<time_spent> 0'\n",
      "'<status> 진행중'\n",
      "'=============================='\n",
      "'[NODE] process_job'\n",
      "'<time_spent> 1'\n",
      "'=============================='\n",
      "'[NODE] check_progress'\n",
      "'<status> 진행중'\n",
      "'=============================='\n",
      "'[NODE] process_job'\n",
      "'<time_spent> 2'\n",
      "'=============================='\n",
      "'[NODE] check_progress'\n",
      "'<status> 다음 작업'\n",
      "'=============================='\n",
      "'[NODE] start_job'\n",
      "'<current_job> 자료 검포 및 수정'\n",
      "'<total_time> 2'\n",
      "'<time_spent> 0'\n",
      "'<status> 진행중'\n",
      "'=============================='\n",
      "'[NODE] process_job'\n",
      "'<time_spent> 1'\n",
      "'=============================='\n",
      "'[NODE] check_progress'\n",
      "'<status> 진행중'\n",
      "'=============================='\n",
      "'[NODE] process_job'\n",
      "'<time_spent> 2'\n",
      "'=============================='\n",
      "'[NODE] check_progress'\n",
      "'<status> 다음 작업'\n",
      "'=============================='\n",
      "'[NODE] start_job'\n",
      "'<current_job> 최종 리허설'\n",
      "'<total_time> 1'\n",
      "'<time_spent> 0'\n",
      "'<status> 진행중'\n",
      "'=============================='\n",
      "'[NODE] process_job'\n",
      "'<time_spent> 1'\n",
      "'=============================='\n",
      "'[NODE] check_progress'\n",
      "'<status> 종료'\n",
      "'=============================='\n"
     ]
    }
   ],
   "source": [
    "import pprint\n",
    "from langgraph.errors import GraphRecursionError\n",
    "from langchain_core.runnables import RunnableConfig\n",
    "\n",
    "config = RunnableConfig(recursion_limit=100, configurable={\"thread_id\": \"TODO\"})\n",
    "\n",
    "# GraphState 객체를 활용하여 질문을 입력합니다.\n",
    "inputs = GraphState(goal=\"랭체인(LangChain) 밋업에서 발표자료를 준비하기\")\n",
    "\n",
    "# app.stream을 통해 입력된 메시지에 대한 출력을 스트리밍합니다.\n",
    "try:\n",
    "    for output in app.stream(inputs, config=config):\n",
    "        # 출력된 결과에서 키와 값을 순회합니다.\n",
    "        for key, value in output.items():\n",
    "            # 노드의 이름과 해당 노드에서 나온 출력을 출력합니다.\n",
    "            pprint.pprint(f\"[NODE] {key}\")\n",
    "            for k, v in value.items():\n",
    "                pprint.pprint(f\"<{k}> {v}\")\n",
    "            pprint.pprint(\"===\" * 10)\n",
    "            # 출력 값을 예쁘게 출력합니다.\n",
    "            # pprint.pprint(value, indent=2, width=80, depth=None)\n",
    "except GraphRecursionError as e:\n",
    "    pprint.pprint(f\"Recursion limit reached: {e}\")"
   ]
  },
  {
   "cell_type": "markdown",
   "id": "59cee097",
   "metadata": {},
   "source": [
    "## LangSmith 추적\n",
    "\n",
    "- 추적: https://smith.langchain.com/public/d4857c97-bbb7-4776-8c90-c3908b77a38f/r"
   ]
  }
 ],
 "metadata": {
  "kernelspec": {
   "display_name": "py-test",
   "language": "python",
   "name": "python3"
  },
  "language_info": {
   "codemirror_mode": {
    "name": "ipython",
    "version": 3
   },
   "file_extension": ".py",
   "mimetype": "text/x-python",
   "name": "python",
   "nbconvert_exporter": "python",
   "pygments_lexer": "ipython3",
   "version": "3.11.9"
  }
 },
 "nbformat": 4,
 "nbformat_minor": 5
}
